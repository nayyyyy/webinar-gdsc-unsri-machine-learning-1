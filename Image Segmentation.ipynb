{
 "cells": [
  {
   "cell_type": "code",
   "execution_count": null,
   "metadata": {},
   "outputs": [],
   "source": [
    "import cv2"
   ]
  },
  {
   "cell_type": "code",
   "execution_count": null,
   "metadata": {},
   "outputs": [],
   "source": [
    "def preview_image_cv(frame_name, image):\n",
    "    cv2.imshow(frame_name,image)\n",
    "\n",
    "    cv2.waitKey(0) \n",
    "    cv2.destroyWindow(frame_name)"
   ]
  },
  {
   "cell_type": "code",
   "execution_count": null,
   "metadata": {},
   "outputs": [],
   "source": [
    "#Set image path & make image as open cv2\n",
    "img_path = \"image-segmentation-sample/prev-desktop_cara-cek-plat-nomor-online-indentifikasi-kendaraan-nakal-semakin-mudah_cover_2021_ini_cara_periksa_plat_nomor_secara_online.jpg\"\n",
    "img = cv2.imread(img_path)"
   ]
  },
  {
   "cell_type": "code",
   "execution_count": null,
   "metadata": {},
   "outputs": [],
   "source": [
    "#crop to middle image to clean up outside \n",
    "def crop_middle_percent(image, percent_width, percent_height):\n",
    "    # Get image dimensions\n",
    "    height, width = image.shape[:2]\n",
    "\n",
    "    # Calculate the region to crop\n",
    "    crop_width = int(percent_width * width)\n",
    "    crop_height = int(percent_height * height)\n",
    "    start_x = (width - crop_width) // 2\n",
    "    start_y = (height - crop_height) // 2\n",
    "\n",
    "    # Crop the image\n",
    "    cropped_image = image[start_y:start_y + crop_height, start_x:start_x + crop_width]\n",
    "\n",
    "    return cropped_image\n",
    "\n",
    "img_cropped_to_middle = crop_middle_percent(img, 0.9, 0.74)\n",
    "\n",
    "preview_image_cv('cropped_to_middle', img_cropped_to_middle)"
   ]
  },
  {
   "cell_type": "code",
   "execution_count": null,
   "metadata": {},
   "outputs": [],
   "source": [
    "#Convert image from RGB to Grayscale\n",
    "gray_img = cv2.cvtColor(img_cropped_to_middle, cv2.COLOR_BGR2GRAY)\n",
    "frame_name = \"grayscale\"\n",
    "\n",
    "preview_image_cv(frame_name=frame_name, image=gray_img)"
   ]
  },
  {
   "cell_type": "code",
   "execution_count": null,
   "metadata": {},
   "outputs": [],
   "source": [
    "#Add an thresehold to image using binary thresehold & otsu thresehold\n",
    "_, img_thresehold = cv2.threshold(gray_img, 0, 255, cv2.THRESH_BINARY + cv2.THRESH_OTSU)\n",
    "frame_name = \"thresehold\"\n",
    "\n",
    "preview_image_cv(frame_name=frame_name, image=img_thresehold)"
   ]
  },
  {
   "cell_type": "code",
   "execution_count": null,
   "metadata": {},
   "outputs": [],
   "source": [
    "#Add image dilatation to image\n",
    "kernel = cv2.getStructuringElement(cv2.MORPH_RECT, (3, 3))\n",
    "img_dilatation = cv2.morphologyEx(img_thresehold, cv2.MORPH_DILATE, kernel)\n",
    "\n",
    "preview_image_cv(\"dilatation\", img_dilatation)"
   ]
  },
  {
   "cell_type": "code",
   "execution_count": null,
   "metadata": {},
   "outputs": [],
   "source": [
    "#Copy origin image to create rounded box\n",
    "img_has_rounded = img_cropped_to_middle.copy()\n",
    "\n",
    "#Get contour from latest modified image\n",
    "contours, _ = cv2.findContours(img_dilatation, cv2.RETR_EXTERNAL, cv2.CHAIN_APPROX_SIMPLE)\n",
    "\n",
    "#Draw rectangles around contours\n",
    "for contour in contours:\n",
    "    x, y, w, h = cv2.boundingRect(contour)\n",
    "    cv2.rectangle(img_has_rounded, (x, y), (x + w, y + h), (0, 255, 0), 10)\n",
    "\n",
    "preview_image_cv('img_has_rounded',img_has_rounded)"
   ]
  },
  {
   "cell_type": "code",
   "execution_count": null,
   "metadata": {},
   "outputs": [],
   "source": [
    "#Export if you want to export\n",
    "# def export_as_file(image):\n",
    "#     for i, contour in enumerate(contours):\n",
    "#         print(contour)\n",
    "#         x, y, w, h = cv2.boundingRect(contour)\n",
    "#         contour_image = image[y:y+h, x:x+w]\n",
    "#         cv2.imwrite(f'contour_{i}.png', contour_image)\n",
    "\n",
    "# export_as_file(img_dilatation)\n"
   ]
  }
 ],
 "metadata": {
  "kernelspec": {
   "display_name": "Python 3",
   "language": "python",
   "name": "python3"
  },
  "language_info": {
   "codemirror_mode": {
    "name": "ipython",
    "version": 3
   },
   "file_extension": ".py",
   "mimetype": "text/x-python",
   "name": "python",
   "nbconvert_exporter": "python",
   "pygments_lexer": "ipython3",
   "version": "3.12.1"
  }
 },
 "nbformat": 4,
 "nbformat_minor": 2
}
