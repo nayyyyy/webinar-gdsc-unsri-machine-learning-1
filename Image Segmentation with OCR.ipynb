{
 "cells": [
  {
   "cell_type": "code",
   "execution_count": 6,
   "metadata": {},
   "outputs": [],
   "source": [
    "import cv2\n",
    "import pytesseract as pyt"
   ]
  },
  {
   "cell_type": "code",
   "execution_count": 7,
   "metadata": {},
   "outputs": [],
   "source": [
    "def preview_image_cv(frame_name, image):\n",
    "    cv2.imshow(frame_name,image)\n",
    "\n",
    "    cv2.waitKey(0) \n",
    "    cv2.destroyWindow(frame_name)"
   ]
  },
  {
   "cell_type": "code",
   "execution_count": 8,
   "metadata": {},
   "outputs": [],
   "source": [
    "img_path = \"image-segmentation-sample/prev-desktop_cara-cek-plat-nomor-online-indentifikasi-kendaraan-nakal-semakin-mudah_cover_2021_ini_cara_periksa_plat_nomor_secara_online.jpg\"\n",
    "img = cv2.imread(img_path)"
   ]
  },
  {
   "cell_type": "code",
   "execution_count": 10,
   "metadata": {},
   "outputs": [],
   "source": [
    "gray = cv2.cvtColor(img, cv2.COLOR_BGR2GRAY)\n",
    "\n",
    "\n",
    "_, img_thresehold = cv2.threshold(gray, 0, 255, cv2.THRESH_BINARY + cv2.THRESH_OTSU)\n",
    "text_boxes = pyt.image_to_boxes(img_thresehold, config=\"--psm 6\")\n",
    "\n",
    "# Draw bounding box\n",
    "for box in text_boxes.splitlines():\n",
    "    box = box.split()\n",
    "    x, y, w, h = int(box[1]), int(box[2]), int(box[3]), int(box[4])\n",
    "    cv2.rectangle(img, (x, y), (w, h), (0, 255, 0), 2)\n",
    "\n",
    "# Display the image with bounding box\n",
    "cv2.imshow('Bounding Box', img)\n",
    "cv2.waitKey(0)\n",
    "cv2.destroyAllWindows()"
   ]
  },
  {
   "cell_type": "code",
   "execution_count": null,
   "metadata": {},
   "outputs": [],
   "source": []
  }
 ],
 "metadata": {
  "kernelspec": {
   "display_name": "Python 3",
   "language": "python",
   "name": "python3"
  },
  "language_info": {
   "codemirror_mode": {
    "name": "ipython",
    "version": 3
   },
   "file_extension": ".py",
   "mimetype": "text/x-python",
   "name": "python",
   "nbconvert_exporter": "python",
   "pygments_lexer": "ipython3",
   "version": "3.12.1"
  }
 },
 "nbformat": 4,
 "nbformat_minor": 2
}
